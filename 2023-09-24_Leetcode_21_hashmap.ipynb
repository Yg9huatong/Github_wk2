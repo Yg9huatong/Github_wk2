{
 "cells": [
  {
   "cell_type": "code",
   "execution_count": null,
   "id": "bb4bdb52",
   "metadata": {},
   "outputs": [],
   "source": [
    "\n",
    "\n"
   ]
  },
  {
   "cell_type": "code",
   "execution_count": null,
   "id": "d504702f",
   "metadata": {},
   "outputs": [],
   "source": []
  },
  {
   "cell_type": "code",
   "execution_count": null,
   "id": "503dcf2e",
   "metadata": {},
   "outputs": [],
   "source": []
  },
  {
   "cell_type": "code",
   "execution_count": null,
   "id": "a6d16241",
   "metadata": {},
   "outputs": [],
   "source": []
  },
  {
   "cell_type": "code",
   "execution_count": null,
   "id": "b4fee94d",
   "metadata": {},
   "outputs": [],
   "source": []
  },
  {
   "cell_type": "code",
   "execution_count": null,
   "id": "faab8024",
   "metadata": {},
   "outputs": [],
   "source": []
  },
  {
   "cell_type": "markdown",
   "id": "1961795f",
   "metadata": {},
   "source": [
    "\n",
    "\n",
    "The approach is very simple,\n",
    "Think of a situation,\n",
    "If an elephant have a fight with any other elephant, both will die.\n",
    "King A has 5 elephants, and King B has 4 elephants. If they're in a war, King A will win.\n",
    "Similarly, In this question it was given that a number is in majority, So if we have fight with numbers majority will always win.\n",
    "\n",
    "Let me explain it very briefly\n",
    "In a war, if any King have more than the total count of elephant , so even if rest of the Kings will unite and fight they can't win because at the end of the battle, there will be atleast one elephant left that will belong to the King that has the majority.\n",
    "But we don't know who has the majority, and that is what we need to find.\n",
    "\n",
    "How to fight\n",
    "At any iteration if any King has maximum alive elephants will get the Throne and the rest of the Kings will unite to de-throne him.\n",
    "So at the end of this continous war (list), the King that has throne will be the winner.\n",
    "\n",
    "Exact code as per the exaplination\n",
    "\n"
   ]
  },
  {
   "cell_type": "code",
   "execution_count": 4,
   "id": "d528a4f9",
   "metadata": {},
   "outputs": [
    {
     "data": {
      "text/plain": [
       "2"
      ]
     },
     "execution_count": 4,
     "metadata": {},
     "output_type": "execute_result"
    }
   ],
   "source": [
    "class Solution:\n",
    "    def majorityElement(self, nums: list[int]) -> int:\n",
    "        curr, count = nums[0], 1              # curr will store the current majority element, count will store the count of the majority\n",
    "        for i in range(1,len(nums)):\n",
    "            count += (1 if curr == nums[i] else -1)    # if i is equal to current majority, they're in same team, hence added, else one current majority and i both will be dead\n",
    "            if not count:                   # if count is 0 means King is de-throwned\n",
    "                curr = nums[i+1] if i + 1 < len(nums) else None        # the next element is the new King\n",
    "                count = 0         # starting it with 0 because we can't increment the i of the for loop, the count will be 1 in next iteration, and again the battle continues after next iteration\n",
    "        return curr\n",
    "\n",
    "nums = [2,2,1,1,1,2,2]    \n",
    "\n",
    "p = Solution.majorityElement(nums, nums)\n",
    "p\n",
    "    "
   ]
  },
  {
   "cell_type": "code",
   "execution_count": 15,
   "id": "230de02d",
   "metadata": {},
   "outputs": [
    {
     "name": "stdout",
     "output_type": "stream",
     "text": [
      "83 {191}\n",
      "<class 'set'>\n",
      "73 {83, 191}\n",
      "<class 'set'>\n",
      "58 {73, 83, 191}\n",
      "<class 'set'>\n",
      "89 {73, 58, 83, 191}\n",
      "<class 'set'>\n",
      "145 {73, 83, 89, 58, 191}\n",
      "<class 'set'>\n",
      "42 {73, 145, 83, 89, 58, 191}\n",
      "<class 'set'>\n",
      "20 {73, 42, 145, 83, 89, 58, 191}\n",
      "<class 'set'>\n",
      "4 {73, 42, 145, 83, 20, 89, 58, 191}\n",
      "<class 'set'>\n",
      "16 {4, 73, 42, 145, 83, 20, 89, 58, 191}\n",
      "<class 'set'>\n",
      "37 {4, 73, 42, 16, 145, 83, 20, 89, 58, 191}\n",
      "<class 'set'>\n",
      "58 {4, 37, 73, 42, 16, 145, 83, 20, 89, 58, 191}\n",
      "<class 'set'>\n",
      "False\n"
     ]
    }
   ],
   "source": [
    "class Solution:\n",
    "    def isHappy(self, n: int) -> bool:\n",
    "        tmp = set()\n",
    "\n",
    "        while n != 1 and n not in tmp:\n",
    "            tmp.add(n)\n",
    "            n = sum(int(digit) ** 2 for digit in str(n))\n",
    "#            print(n, tmp)\n",
    "        return n == 1\n",
    "\n",
    "p = Solution.isHappy(1,191)    \n",
    "\n",
    "print(p)"
   ]
  },
  {
   "cell_type": "code",
   "execution_count": 1,
   "id": "5d504abd",
   "metadata": {},
   "outputs": [
    {
     "name": "stdout",
     "output_type": "stream",
     "text": [
      "{'GEEKS': 2175, 'For': 1127, 'geeks': 2750}\n"
     ]
    }
   ],
   "source": [
    "stocks = ['GEEKS', 'For', 'geeks']\n",
    "prices = [2175, 1127, 2750]\n",
    " \n",
    "new_dict = {stocks: prices for stocks,\n",
    "            prices in zip(stocks, prices)}\n",
    "print(new_dict)\n"
   ]
  },
  {
   "cell_type": "code",
   "execution_count": 2,
   "id": "9f2d2d56",
   "metadata": {
    "scrolled": true
   },
   "outputs": [
    {
     "name": "stdout",
     "output_type": "stream",
     "text": [
      "<zip object at 0x0000025529E27600>\n"
     ]
    }
   ],
   "source": [
    "print(zip(stocks, prices))"
   ]
  },
  {
   "cell_type": "markdown",
   "id": "530220e6",
   "metadata": {},
   "source": [
    "Following cell showed how I learned to use class in Python"
   ]
  },
  {
   "cell_type": "code",
   "execution_count": 12,
   "id": "ff7d07dd",
   "metadata": {},
   "outputs": [
    {
     "name": "stdout",
     "output_type": "stream",
     "text": [
      "<class '__main__.Solution'>\n",
      "{'p': 't'} {'t': 'p'}\n",
      "{'p': 't', 'a': 'i'} {'t': 'p', 'i': 'a'}\n",
      "{'p': 't', 'a': 'i'} {'t': 'p', 'i': 'a'}\n",
      "{'p': 't', 'a': 'i', 'e': 'l'} {'t': 'p', 'i': 'a', 'l': 'e'}\n",
      "{'p': 't', 'a': 'i', 'e': 'l', 'r': 'e'} {'t': 'p', 'i': 'a', 'l': 'e', 'e': 'r'}\n"
     ]
    },
    {
     "data": {
      "text/plain": [
       "True"
      ]
     },
     "execution_count": 12,
     "metadata": {},
     "output_type": "execute_result"
    }
   ],
   "source": [
    "# define a calss\n",
    "class Solution:\n",
    "    def isIsomorphic(self, s: str, t: str) -> bool:\n",
    "        dic1,dic2={},{}\n",
    "        for s1,t1 in zip(s,t):\n",
    "            if (s1 in dic1 and dic1[s1]!=t1) or ( t1 in dic2 and dic2[t1]!=s1):\n",
    "                return False\n",
    "            dic1[s1]=t1\n",
    "            dic2[t1]=s1\n",
    "            print(dic1,dic2)\n",
    "        return True\n",
    "# Now, I can use the class defined above\n",
    "s = \"paper\"\n",
    "#t = \"papel\"\n",
    "t = \"title\"\n",
    "\n",
    "# create an object of the class \n",
    "z = Solution()\n",
    "\n",
    "\n",
    "print(type(z))\n",
    "\n",
    "# apply the class methos\n",
    "z.isIsomorphic(s,t)\n"
   ]
  },
  {
   "cell_type": "code",
   "execution_count": 7,
   "id": "95186ef0",
   "metadata": {},
   "outputs": [
    {
     "name": "stdout",
     "output_type": "stream",
     "text": [
      "5\n"
     ]
    }
   ],
   "source": [
    "class MyClass:\n",
    "  x = 5\n",
    "\n",
    "p1 = MyClass()\n",
    "print(p1.x)"
   ]
  },
  {
   "cell_type": "code",
   "execution_count": 13,
   "id": "0c495a16",
   "metadata": {},
   "outputs": [
    {
     "name": "stdout",
     "output_type": "stream",
     "text": [
      "John\n",
      "36\n"
     ]
    }
   ],
   "source": [
    "class Person:\n",
    "  def __init__(self, name, age):\n",
    "    self.name = name\n",
    "    self.age = age\n",
    "\n",
    "p1 = Person(\"John\", 36)\n",
    "\n",
    "print(p1.name)\n",
    "print(p1.age)\n"
   ]
  },
  {
   "cell_type": "code",
   "execution_count": 10,
   "id": "06d12786",
   "metadata": {},
   "outputs": [
    {
     "name": "stdout",
     "output_type": "stream",
     "text": [
      "dog cat cat dog\n",
      "\n",
      " ['dog', 'cat', 'cat', 'dog']\n"
     ]
    },
    {
     "ename": "NameError",
     "evalue": "name 'zip_longest' is not defined",
     "output_type": "error",
     "traceback": [
      "\u001b[1;31m---------------------------------------------------------------------------\u001b[0m",
      "\u001b[1;31mNameError\u001b[0m                                 Traceback (most recent call last)",
      "Cell \u001b[1;32mIn[10], line 16\u001b[0m\n\u001b[0;32m     13\u001b[0m s \u001b[38;5;241m=\u001b[39m s\u001b[38;5;241m.\u001b[39msplit()\n\u001b[0;32m     14\u001b[0m \u001b[38;5;28mprint\u001b[39m(\u001b[38;5;124m'\u001b[39m\u001b[38;5;130;01m\\n\u001b[39;00m\u001b[38;5;124m'\u001b[39m,s)\n\u001b[1;32m---> 16\u001b[0m \u001b[38;5;28mprint\u001b[39m(\u001b[38;5;28mset\u001b[39m(zip_longest(pattern,s)))\n",
      "\u001b[1;31mNameError\u001b[0m: name 'zip_longest' is not defined"
     ]
    }
   ],
   "source": [
    "class Solution:\n",
    "    def wordPattern(self, pattern: str, s: str) -> bool:\n",
    "\n",
    "        s = s.split()\n",
    "        return (len(set(pattern)) ==\n",
    "                len(set(s)) ==\n",
    "                len(set(zip_longest(pattern,s))))\n",
    "    \n",
    "pattern = \"abba\"\n",
    "s = \"dog cat cat dog\"\n",
    "\n",
    "print(s)\n",
    "s = s.split()\n",
    "print('\\n',s)\n",
    "\n",
    "print(set(zip_longest(pattern,s)))\n",
    "\n",
    "# p1 = Solution.wordPattern(pattern,s)\n",
    "# print(p1)\n"
   ]
  },
  {
   "cell_type": "code",
   "execution_count": 4,
   "id": "685142e3",
   "metadata": {},
   "outputs": [
    {
     "name": "stdout",
     "output_type": "stream",
     "text": [
      "True\n"
     ]
    }
   ],
   "source": [
    "class Solution:\n",
    "    def wordPattern(self, pattern: str, s: str) -> bool:\n",
    "        dic = {}\n",
    "        s = s.split()\n",
    "        if len(set(pattern)) != len(set(s)):\n",
    "            return False\n",
    "        if len(pattern) != len(s):\n",
    "            return False\n",
    "        for i in range(len(pattern)):\n",
    "            if pattern[i] not in dic:\n",
    "                dic[pattern[i]] = s[i]\n",
    "            elif dic[pattern[i]] == s[i]:\n",
    "                continue\n",
    "            else:\n",
    "                return False\n",
    "        return True   \n",
    "pattern = \"abba\"\n",
    "s = \"dog cat cat dog\"\n",
    "#p1 = Solution.wordPattern(pattern,s)\n",
    "p1 = Solution.wordPattern(pattern,\"abba\",\"dog cat cat dog\")\n",
    "\n",
    "print(p1)"
   ]
  },
  {
   "cell_type": "code",
   "execution_count": 1,
   "id": "6ee0dfe9",
   "metadata": {},
   "outputs": [],
   "source": [
    "pattern = \"abba\"\n",
    "s = \"dog cat cat dog\"\n",
    "dic = {}\n",
    "s = s.split()\n",
    "\n"
   ]
  },
  {
   "cell_type": "code",
   "execution_count": null,
   "id": "ae7489e6",
   "metadata": {},
   "outputs": [],
   "source": []
  },
  {
   "cell_type": "code",
   "execution_count": 6,
   "id": "47c15fa0",
   "metadata": {},
   "outputs": [
    {
     "name": "stdout",
     "output_type": "stream",
     "text": [
      "1\n",
      "321\n",
      "False\n"
     ]
    }
   ],
   "source": [
    "x = 123\n",
    "x = str(x)\n",
    "y = x[::-1]\n",
    "print(x[0:1])\n",
    "print(y)\n",
    "\n",
    "print(x == y)"
   ]
  },
  {
   "cell_type": "code",
   "execution_count": 1,
   "id": "7f99b4fd",
   "metadata": {},
   "outputs": [
    {
     "name": "stdout",
     "output_type": "stream",
     "text": [
      "{'a': 1, 'b': 2, 'c': 3}\n"
     ]
    }
   ],
   "source": [
    "import itertools\n",
    " \n",
    "def convert(lst):\n",
    "    pairs = itertools.zip_longest(*[iter(lst)] * 2, fillvalue=None)\n",
    "    dct = {key: value for key, value in pairs}\n",
    "    return dct\n",
    " \n",
    "lst = ['a', 1, 'b', 2, 'c', 3]\n",
    "print(convert(lst))"
   ]
  },
  {
   "cell_type": "code",
   "execution_count": 7,
   "id": "978db57c",
   "metadata": {},
   "outputs": [
    {
     "name": "stdout",
     "output_type": "stream",
     "text": [
      "{'n', 'm', 'r', 'g', 'a'}\n",
      "n 1 1\n",
      "m 1 1\n",
      "r 1 1\n",
      "g 1 1\n",
      "a 3 3\n"
     ]
    },
    {
     "data": {
      "text/plain": [
       "True"
      ]
     },
     "execution_count": 7,
     "metadata": {},
     "output_type": "execute_result"
    }
   ],
   "source": [
    "class Solution(object):\n",
    "    def isAnagram(s, t):\n",
    "        # In case of different length of thpse two strings...\n",
    "        if len(s) != len(t):\n",
    "            return False\n",
    "        print(set(s))    \n",
    "        for idx in set(s):\n",
    "            # Compare s.count(l) and t.count(l) for every index i from 0 to 26...\n",
    "            # If they are different, return false...\n",
    "            print(idx,s.count(idx),t.count(idx))\n",
    "            if s.count(idx) != t.count(idx):\n",
    "                return False\n",
    "        return True     # Otherwise, return true...\n",
    "\n",
    "s = \"anagram\"\n",
    "t = \"nagaram\"    \n",
    "\n",
    "Solution.isAnagram(s, t)\n",
    "    "
   ]
  },
  {
   "cell_type": "code",
   "execution_count": 12,
   "id": "5344bb2a",
   "metadata": {},
   "outputs": [
    {
     "name": "stdout",
     "output_type": "stream",
     "text": [
      "{1: 'a', 2: 'b', 3: 'c', 4: 'd'}\n"
     ]
    }
   ],
   "source": [
    "l1=[1,2,3,4,5,6,7]\n",
    "l2=['a','b','c','d']\n",
    "d1=zip(l1,l2)\n",
    "print(dict(d1))"
   ]
  },
  {
   "cell_type": "code",
   "execution_count": 15,
   "id": "4b56de76",
   "metadata": {},
   "outputs": [
    {
     "name": "stdout",
     "output_type": "stream",
     "text": [
      "<itertools.zip_longest object at 0x0000012DCD6CEC50>\n",
      "{1: 'a', 2: 'b', 3: 'c', 4: 'd', 5: None, 6: None, 7: None}\n",
      "{1: 'a', 2: 'b', 3: 'c', 4: 'd', 5: None, 6: None, 7: None}\n",
      "{1: 'a', 2: 'b', 3: 'c', 4: 'd', 5: 'x', 6: 'x', 7: 'x'}\n"
     ]
    }
   ],
   "source": [
    "from itertools import zip_longest\n",
    "\n",
    "l1=[1,2,3,4,5,6,7]\n",
    "l2=['a','b','c','d']\n",
    "d1=zip_longest(l1,l2)\n",
    "\n",
    "d2 =zip_longest(l1,l2,fillvalue=None)\n",
    "d3 =zip_longest(l1,l2,fillvalue='x')\n",
    "\n",
    "print(d1)             #Output:<itertools.zip_longest object at 0x00993C08>\n",
    "#Converting zip object to dict using dict() contructor.\n",
    "\n",
    "print(dict(d1))\n",
    "\n",
    "print(dict(d2))\n",
    "print(dict(d3))\n"
   ]
  },
  {
   "cell_type": "code",
   "execution_count": null,
   "id": "05660583",
   "metadata": {},
   "outputs": [],
   "source": []
  }
 ],
 "metadata": {
  "kernelspec": {
   "display_name": "Python 3 (ipykernel)",
   "language": "python",
   "name": "python3"
  },
  "language_info": {
   "codemirror_mode": {
    "name": "ipython",
    "version": 3
   },
   "file_extension": ".py",
   "mimetype": "text/x-python",
   "name": "python",
   "nbconvert_exporter": "python",
   "pygments_lexer": "ipython3",
   "version": "3.11.4"
  }
 },
 "nbformat": 4,
 "nbformat_minor": 5
}
